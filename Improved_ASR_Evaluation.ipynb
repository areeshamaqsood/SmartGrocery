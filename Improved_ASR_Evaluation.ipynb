{
 "cells": [
  {
   "cell_type": "code",
   "execution_count": 5,
   "id": "5058645d",
   "metadata": {},
   "outputs": [],
   "source": [
    "import torch\n",
    "import librosa\n",
    "from transformers import Wav2Vec2ForCTC, Wav2Vec2Processor"
   ]
  },
  {
   "cell_type": "markdown",
   "id": "6127493a",
   "metadata": {},
   "source": [
    "##### Loading Model"
   ]
  },
  {
   "cell_type": "code",
   "execution_count": 6,
   "id": "94d107c3",
   "metadata": {},
   "outputs": [],
   "source": [
    "MODEL_ID = \"jonatasgrosman/wav2vec2-large-xlsr-53-arabic\"\n",
    "\n",
    "processor = Wav2Vec2Processor.from_pretrained(MODEL_ID)\n",
    "model = Wav2Vec2ForCTC.from_pretrained(MODEL_ID)"
   ]
  },
  {
   "cell_type": "markdown",
   "id": "849bbd72",
   "metadata": {},
   "source": [
    "##### Load data\n"
   ]
  },
  {
   "cell_type": "code",
   "execution_count": 111,
   "id": "ce95890c",
   "metadata": {},
   "outputs": [
    {
     "name": "stdout",
     "output_type": "stream",
     "text": [
      "Processing...\n",
      "['أتار']\n"
     ]
    }
   ],
   "source": [
    "data = librosa.load('Achaar(45).wav', sr=16000, mono=True)\n",
    "\n",
    "print(\"Processing...\")\n",
    "inputs = processor(data[0], sampling_rate=16_000, return_tensors=\"pt\", padding=True)\n",
    "with torch.no_grad():\n",
    "    logits = model(inputs.input_values, attention_mask=inputs.attention_mask).logits\n",
    "\n",
    "predicted_ids = torch.argmax(logits, dim=-1)\n",
    "predicted_word = processor.batch_decode(predicted_ids)\n",
    "\n",
    "print(predicted_word)"
   ]
  },
  {
   "cell_type": "code",
   "execution_count": 112,
   "id": "b2e12a20",
   "metadata": {},
   "outputs": [],
   "source": [
    "from spellchecker import SpellChecker\n",
    "\n",
    "spell = SpellChecker()\n",
    "spell.word_frequency.load_words(['أتار', 'أندے', 'بیسن', 'جانئے', 'جاول', 'جینی', 'دہی',\n",
    "                                'دود'])"
   ]
  },
  {
   "cell_type": "code",
   "execution_count": 114,
   "id": "48409b32",
   "metadata": {},
   "outputs": [
    {
     "data": {
      "text/plain": [
       "'أتار'"
      ]
     },
     "execution_count": 114,
     "metadata": {},
     "output_type": "execute_result"
    }
   ],
   "source": [
    "predicted_word[0]"
   ]
  },
  {
   "cell_type": "code",
   "execution_count": 115,
   "id": "a1352949",
   "metadata": {},
   "outputs": [
    {
     "data": {
      "text/plain": [
       "'أتار'"
      ]
     },
     "execution_count": 115,
     "metadata": {},
     "output_type": "execute_result"
    }
   ],
   "source": [
    "spell.correction(predicted_word[0])"
   ]
  },
  {
   "cell_type": "code",
   "execution_count": null,
   "id": "82624b16",
   "metadata": {},
   "outputs": [],
   "source": []
  },
  {
   "cell_type": "code",
   "execution_count": null,
   "id": "250a19dc",
   "metadata": {},
   "outputs": [],
   "source": []
  }
 ],
 "metadata": {
  "kernelspec": {
   "display_name": "FYP",
   "language": "python",
   "name": "fyp"
  },
  "language_info": {
   "codemirror_mode": {
    "name": "ipython",
    "version": 3
   },
   "file_extension": ".py",
   "mimetype": "text/x-python",
   "name": "python",
   "nbconvert_exporter": "python",
   "pygments_lexer": "ipython3",
   "version": "3.9.7"
  }
 },
 "nbformat": 4,
 "nbformat_minor": 5
}
